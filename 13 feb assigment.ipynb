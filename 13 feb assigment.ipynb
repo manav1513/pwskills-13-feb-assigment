{
 "cells": [
  {
   "cell_type": "code",
   "execution_count": 1,
   "id": "b8e2ff53-5525-44d2-a61e-52a7c9429fb4",
   "metadata": {},
   "outputs": [],
   "source": [
    "#Q1. Explain why we have to use the Exception class while creating a Custom Exception.\n",
    "\n",
    "# ans = When creating a custom exception in a programming language like Java or\n",
    "#     Python, it is recommended to extend or inherit from the built-in \n",
    "#     Exception class. This is because the Exception class provides a \n",
    "#     standard interface and behavior that is expected by the language \n",
    "#     and other components. By inheriting from Exception, the custom\n",
    "#     exception can inherit this behavior and can be caught by standard \n",
    "#     exception handling mechanisms. Additionally, using the Exception class\n",
    "#     can make it easier to provide useful error messages and other relevant \n",
    "#     information when an exception occurs.\n",
    "\n"
   ]
  },
  {
   "cell_type": "code",
   "execution_count": 3,
   "id": "15f8f62a-0096-4434-b128-6fc0a81dfbac",
   "metadata": {},
   "outputs": [
    {
     "data": {
      "text/plain": [
       "<__main__.PrintExceptionHierarchy at 0x7f44322500d0>"
      ]
     },
     "execution_count": 3,
     "metadata": {},
     "output_type": "execute_result"
    }
   ],
   "source": [
    "# Q2. Write a python program to print Python Exception Hierarchy.\n",
    "\n",
    "\n",
    "class PrintExceptionHierarchy:\n",
    "    def _init_(self):\n",
    "        self.print_exception_hierarchy(BaseException)\n",
    "        \n",
    "    def print_exception_hierarchy(self, exception_class, level=0):\n",
    "        print('    ' * level, exception_class._name_)\n",
    "        for subclass in exception_class._subclasses_():\n",
    "            self.print_exception_hierarchy(subclass, level+1)\n",
    "PrintExceptionHierarchy()\n",
    "\n"
   ]
  },
  {
   "cell_type": "code",
   "execution_count": 4,
   "id": "96730ad2-5c8d-47e0-a13b-92048fcdebf5",
   "metadata": {},
   "outputs": [
    {
     "name": "stdout",
     "output_type": "stream",
     "text": [
      "Attempted to divide by zero!\n"
     ]
    }
   ],
   "source": [
    "# Q3. What errors are defined in the ArithmeticError class? Explain any two with an example in python \n",
    "\n",
    "# ans = The ArithmeticError class is a built-in exception class in Python that \n",
    "#     serves as the base class for various arithmetic-related exceptions. Some \n",
    "#     of the errors that are defined inthe ArithmeticError class \n",
    "    \n",
    "def divide_by_zero():\n",
    "    x = 10\n",
    "    y = 0\n",
    "    z = x / y\n",
    "\n",
    "def large_number():\n",
    "    x = 10 ** 1000\n",
    "    y = 10 ** 1000\n",
    "    z = x * y\n",
    "\n",
    "try:\n",
    "    divide_by_zero()\n",
    "except ZeroDivisionError:\n",
    "    print(\"Attempted to divide by zero!\")\n",
    "\n",
    "try:\n",
    "    large_number()\n",
    "except OverflowError:\n",
    "    print(\"Result too large to be represented!\")\n"
   ]
  },
  {
   "cell_type": "code",
   "execution_count": 5,
   "id": "4cbc5a7e-54bd-45f9-bf58-50788b82584a",
   "metadata": {},
   "outputs": [
    {
     "name": "stdout",
     "output_type": "stream",
     "text": [
      "Key not found in dictionary!\n",
      "Index out of range in list!\n"
     ]
    }
   ],
   "source": [
    "# Q4. Why LookupError class is used? Explain with an example KeyError and IndexError in python \n",
    "\n",
    "# ans = The LookupError class is a built-in exception class in Python that serves as the base class for various lookup-related exceptions. This class is used to handle exceptions related to searching or accessing elements in a collection or mapping.\n",
    "\n",
    "# Two common exceptions that inherit from the LookupError class are KeyError and IndexError:\n",
    "\n",
    "# KeyError: This exception is raised when a dictionary key or set element is not found. For example:\n",
    "\n",
    "my_dict = {'a': 1, 'b': 2, 'c': 3}\n",
    "my_list = [1, 2, 3]\n",
    "\n",
    "try:\n",
    "    value1 = my_dict['d']\n",
    "except KeyError:\n",
    "    print(\"Key not found in dictionary!\")\n",
    "\n",
    "try:\n",
    "    value2 = my_list[3]\n",
    "except IndexError:\n",
    "    print(\"Index out of range in list!\")\n",
    "\n"
   ]
  },
  {
   "cell_type": "code",
   "execution_count": null,
   "id": "6b6fee92-bab1-4efc-ba87-02d352515c8c",
   "metadata": {},
   "outputs": [],
   "source": [
    "# Q5. Explain ImportError. What is ModuleNotFoundError in python \n",
    "\n",
    "# ans = ImportError is a built-in exception class in Python that is raised when a\n",
    "# module, package, or object could not be imported. This can happen if the\n",
    "# module is not found, if the module has an import error of its own, or if\n",
    "# there is a syntax error in the module.\n"
   ]
  }
 ],
 "metadata": {
  "kernelspec": {
   "display_name": "Python 3 (ipykernel)",
   "language": "python",
   "name": "python3"
  },
  "language_info": {
   "codemirror_mode": {
    "name": "ipython",
    "version": 3
   },
   "file_extension": ".py",
   "mimetype": "text/x-python",
   "name": "python",
   "nbconvert_exporter": "python",
   "pygments_lexer": "ipython3",
   "version": "3.10.8"
  }
 },
 "nbformat": 4,
 "nbformat_minor": 5
}
